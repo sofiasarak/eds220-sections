{
 "cells": [
  {
   "cell_type": "markdown",
   "id": "467617bb-9a38-4df0-98d3-dc47eb101b07",
   "metadata": {},
   "source": [
    "## Yucatan Peninsula Hurricanes\n",
    "Week 4 - Discussion section\n",
    "\n",
    "**Description:** This data set explores the ecological impacts of hurricanes of the Yucatan Peninsula from 1851 - 2000. Computer modeling was used for analysis.\n",
    "\n",
    "**Citation:** Boose, E. and D. Foster. 2023. Ecological Impacts of Hurricanes Across the Yucatan Peninsula 1851-2000 ver 23. Environmental Data Initiative. https://doi.org/10.6073/pasta/f219113373913f2daf421732e28d3c38 (Accessed 2025-10-24).\n",
    "\n",
    "**Date of Access:** 10/24/2025\n",
    "\n",
    "**Link:** https://portal.edirepository.org/nis/mapbrowse?packageid=knb-lter-hfr.71.23\n",
    "\n",
    "### 2. Data loading and preliminary exploration"
   ]
  },
  {
   "cell_type": "code",
   "execution_count": 1,
   "id": "28ea95ad-0c51-4a0b-a7fd-2c1d303e13bf",
   "metadata": {
    "tags": []
   },
   "outputs": [],
   "source": [
    "import pandas as pd\n",
    "\n",
    "# Saving dataset url for import\n",
    "URL = \"https://pasta.lternet.edu/package/data/eml/knb-lter-hfr/71/23/ab0fe2bf4f3ad850371ccb9c69d78469\"\n",
    "\n",
    "hurr = pd.read_csv(URL)"
   ]
  },
  {
   "cell_type": "code",
   "execution_count": 2,
   "id": "9f92c8e1-669f-4a57-9933-ea1453c0dba2",
   "metadata": {
    "tags": []
   },
   "outputs": [
    {
     "data": {
      "text/html": [
       "<div>\n",
       "<style scoped>\n",
       "    .dataframe tbody tr th:only-of-type {\n",
       "        vertical-align: middle;\n",
       "    }\n",
       "\n",
       "    .dataframe tbody tr th {\n",
       "        vertical-align: top;\n",
       "    }\n",
       "\n",
       "    .dataframe thead th {\n",
       "        text-align: right;\n",
       "    }\n",
       "</style>\n",
       "<table border=\"1\" class=\"dataframe\">\n",
       "  <thead>\n",
       "    <tr style=\"text-align: right;\">\n",
       "      <th></th>\n",
       "      <th>code</th>\n",
       "      <th>start.date</th>\n",
       "      <th>end.date</th>\n",
       "      <th>number</th>\n",
       "      <th>name</th>\n",
       "      <th>ss</th>\n",
       "      <th>track</th>\n",
       "      <th>rf.max</th>\n",
       "    </tr>\n",
       "  </thead>\n",
       "  <tbody>\n",
       "    <tr>\n",
       "      <th>0</th>\n",
       "      <td>Y1852</td>\n",
       "      <td>1852-10-07</td>\n",
       "      <td>1852-10-08</td>\n",
       "      <td>5</td>\n",
       "      <td>NaN</td>\n",
       "      <td>2</td>\n",
       "      <td>O</td>\n",
       "      <td>F1</td>\n",
       "    </tr>\n",
       "    <tr>\n",
       "      <th>1</th>\n",
       "      <td>Y1857</td>\n",
       "      <td>1857-09-28</td>\n",
       "      <td>1857-09-28</td>\n",
       "      <td>4</td>\n",
       "      <td>NaN</td>\n",
       "      <td>2</td>\n",
       "      <td>N</td>\n",
       "      <td>F1</td>\n",
       "    </tr>\n",
       "    <tr>\n",
       "      <th>2</th>\n",
       "      <td>Y1861</td>\n",
       "      <td>1861-08-17</td>\n",
       "      <td>1861-08-17</td>\n",
       "      <td>2</td>\n",
       "      <td>NaN</td>\n",
       "      <td>1</td>\n",
       "      <td>O</td>\n",
       "      <td>Nd</td>\n",
       "    </tr>\n",
       "    <tr>\n",
       "      <th>3</th>\n",
       "      <td>Y1864</td>\n",
       "      <td>1864-08-31</td>\n",
       "      <td>1864-08-31</td>\n",
       "      <td>3</td>\n",
       "      <td>NaN</td>\n",
       "      <td>1</td>\n",
       "      <td>S</td>\n",
       "      <td>F1</td>\n",
       "    </tr>\n",
       "    <tr>\n",
       "      <th>4</th>\n",
       "      <td>Y1865</td>\n",
       "      <td>1865-09-11</td>\n",
       "      <td>1865-09-11</td>\n",
       "      <td>4</td>\n",
       "      <td>NaN</td>\n",
       "      <td>2</td>\n",
       "      <td>O</td>\n",
       "      <td>F1</td>\n",
       "    </tr>\n",
       "  </tbody>\n",
       "</table>\n",
       "</div>"
      ],
      "text/plain": [
       "    code  start.date    end.date  number name  ss track rf.max\n",
       "0  Y1852  1852-10-07  1852-10-08       5  NaN   2     O     F1\n",
       "1  Y1857  1857-09-28  1857-09-28       4  NaN   2     N     F1\n",
       "2  Y1861  1861-08-17  1861-08-17       2  NaN   1     O     Nd\n",
       "3  Y1864  1864-08-31  1864-08-31       3  NaN   1     S     F1\n",
       "4  Y1865  1865-09-11  1865-09-11       4  NaN   2     O     F1"
      ]
     },
     "execution_count": 2,
     "metadata": {},
     "output_type": "execute_result"
    }
   ],
   "source": [
    "# Access head\n",
    "hurr.head()"
   ]
  },
  {
   "cell_type": "code",
   "execution_count": 3,
   "id": "909aba20-9920-498c-9466-a5a69d2c83ca",
   "metadata": {
    "tags": []
   },
   "outputs": [
    {
     "data": {
      "text/plain": [
       "code           0\n",
       "start.date     0\n",
       "end.date       0\n",
       "number         0\n",
       "name          72\n",
       "ss             0\n",
       "track          0\n",
       "rf.max         0\n",
       "dtype: int64"
      ]
     },
     "execution_count": 3,
     "metadata": {},
     "output_type": "execute_result"
    }
   ],
   "source": [
    "# Checking for NA values\n",
    "hurr.isna().sum()"
   ]
  },
  {
   "cell_type": "code",
   "execution_count": 5,
   "id": "053eabaa-2e7b-420e-a74b-7470e31f23cc",
   "metadata": {
    "tags": []
   },
   "outputs": [
    {
     "data": {
      "text/plain": [
       "(105, 8)"
      ]
     },
     "execution_count": 5,
     "metadata": {},
     "output_type": "execute_result"
    }
   ],
   "source": [
    "# Dimensions of df\n",
    "hurr.shape"
   ]
  },
  {
   "cell_type": "code",
   "execution_count": 8,
   "id": "d4137849-c2b5-488d-bef6-3047c9b5585b",
   "metadata": {
    "tags": []
   },
   "outputs": [
    {
     "name": "stdout",
     "output_type": "stream",
     "text": [
      "<class 'pandas.core.frame.DataFrame'>\n",
      "RangeIndex: 105 entries, 0 to 104\n",
      "Data columns (total 8 columns):\n",
      " #   Column      Non-Null Count  Dtype \n",
      "---  ------      --------------  ----- \n",
      " 0   code        105 non-null    object\n",
      " 1   start.date  105 non-null    object\n",
      " 2   end.date    105 non-null    object\n",
      " 3   number      105 non-null    int64 \n",
      " 4   name        33 non-null     object\n",
      " 5   ss          105 non-null    int64 \n",
      " 6   track       105 non-null    object\n",
      " 7   rf.max      105 non-null    object\n",
      "dtypes: int64(2), object(6)\n",
      "memory usage: 6.7+ KB\n"
     ]
    }
   ],
   "source": [
    "# Data types of columns and number of non-null values \n",
    "hurr.info()"
   ]
  },
  {
   "cell_type": "code",
   "execution_count": null,
   "id": "e5b05048-3ed8-4923-9ba7-696f742d6ff6",
   "metadata": {},
   "outputs": [],
   "source": []
  }
 ],
 "metadata": {
  "kernelspec": {
   "display_name": "EDS220",
   "language": "python",
   "name": "eds220-env"
  },
  "language_info": {
   "codemirror_mode": {
    "name": "ipython",
    "version": 3
   },
   "file_extension": ".py",
   "mimetype": "text/x-python",
   "name": "python",
   "nbconvert_exporter": "python",
   "pygments_lexer": "ipython3",
   "version": "3.11.4"
  }
 },
 "nbformat": 4,
 "nbformat_minor": 5
}
